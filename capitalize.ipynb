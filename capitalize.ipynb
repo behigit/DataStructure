{
 "cells": [
  {
   "cell_type": "code",
   "execution_count": 18,
   "metadata": {
    "collapsed": false
   },
   "outputs": [
    {
     "name": "stdout",
     "output_type": "stream",
     "text": [
      "Hello World\n"
     ]
    }
   ],
   "source": [
    "def capitalize(string):\n",
    "    for i in range(0,len(string)-1):\n",
    "        string = string[0].upper() + string[1:]\n",
    "        if string[i]==' ':\n",
    "            string = string[0:i] + ' ' +string[i+1].upper() + string[i+2:]\n",
    "    return string\n",
    "string = 'hello world'\n",
    "\n",
    "capitalized_string = capitalize((string))\n",
    "print capitalized_string"
   ]
  },
  {
   "cell_type": "code",
   "execution_count": null,
   "metadata": {
    "collapsed": true
   },
   "outputs": [],
   "source": []
  }
 ],
 "metadata": {
  "kernelspec": {
   "display_name": "Python 2",
   "language": "python",
   "name": "python2"
  },
  "language_info": {
   "codemirror_mode": {
    "name": "ipython",
    "version": 2
   },
   "file_extension": ".py",
   "mimetype": "text/x-python",
   "name": "python",
   "nbconvert_exporter": "python",
   "pygments_lexer": "ipython2",
   "version": "2.7.12"
  }
 },
 "nbformat": 4,
 "nbformat_minor": 1
}
